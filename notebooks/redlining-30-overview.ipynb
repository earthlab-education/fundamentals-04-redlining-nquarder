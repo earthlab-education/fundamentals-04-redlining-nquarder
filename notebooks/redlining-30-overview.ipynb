{
  "cells": [
    {
      "cell_type": "markdown",
      "id": "350b0fec-0fcb-45cd-8534-7357d88b3611",
      "metadata": {},
      "source": [
        "# \n",
        "\n",
        "# Redlining – Racism you can see from space\n",
        "\n",
        "Redlining is a form of systemic racism that funnels resources away from\n",
        "(typically) Black neighborhoods in the United States. Several mechanisms\n",
        "contribute to the overall disinvestment, including requirements that\n",
        "particular homeowners sell only to other white people, and labeling\n",
        "Black neighborhoods as poor investments and thereby preventing anyone in\n",
        "those neighborhoods from getting mortgages and other loans.\n",
        "\n",
        "<figure>\n",
        "<img\n",
        "src=\"https://dsl.richmond.edu/panorama/redlining/static/images/decatur.jpg\"\n",
        "alt=\"Redlining map from Decatur, IL courtesy of Mapping Inequality (Nelson and Winling (2023))\" />\n",
        "<figcaption aria-hidden=\"true\">Redlining map from Decatur, IL courtesy\n",
        "of Mapping Inequality (<span class=\"citation\"\n",
        "data-cites=\"nelson_mapping_2023\">Nelson and Winling\n",
        "(2023)</span>)</figcaption>\n",
        "</figure>\n",
        "\n",
        "You can read more about redlining and data science in (Chapter 2 of Data\n",
        "Feminism ( D’Ignazio and Klein 2020)).\n",
        "\n",
        "In this case study, you will download satellite-based **multispectral**\n",
        "data for the City of Denver, and compare that to redlining maps and\n",
        "results from the U.S. Census American Community Survey.\n",
        "\n",
        "D’Ignazio, Catherine, and Lauren Klein. 2020. “2. Collect, Analyze,\n",
        "Imagine, Teach.” In *Data Feminism*.\n",
        "\n",
        "Nelson, Robert K, and LaDale Winling. 2023. “Mapping Inequality:\n",
        "Redlining in New Deal America.” In *American Panorama: An Atlas of\n",
        "United States History*, edited by Robert K Nelson and Edward L. Ayers.\n",
        "<https://dsl.richmond.edu/panorama/redlining.>"
      ]
    },
    {
      "cell_type": "code",
      "execution_count": 1,
      "id": "5052a863",
      "metadata": {},
      "outputs": [],
      "source": [
        "%%capture\n",
        "%%bash\n",
        "jupyter nbconvert redlining-30-overview.ipynb --to html"
      ]
    }
  ],
  "metadata": {
    "kernelspec": {
      "display_name": "base",
      "language": "python",
      "name": "python3"
    },
    "language_info": {
      "codemirror_mode": {
        "name": "ipython",
        "version": 3
      },
      "file_extension": ".py",
      "mimetype": "text/x-python",
      "name": "python",
      "nbconvert_exporter": "python",
      "pygments_lexer": "ipython3",
      "version": "3.11.6"
    }
  },
  "nbformat": 4,
  "nbformat_minor": 5
}
